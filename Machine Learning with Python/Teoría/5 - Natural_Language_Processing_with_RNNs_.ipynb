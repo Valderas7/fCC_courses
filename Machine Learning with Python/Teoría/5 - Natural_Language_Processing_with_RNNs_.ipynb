{
  "nbformat": 4,
  "nbformat_minor": 0,
  "metadata": {
    "colab": {
      "name": "Copia de Natural Language Processing with RNNs .ipynb",
      "provenance": [],
      "collapsed_sections": []
    },
    "kernelspec": {
      "name": "python3",
      "display_name": "Python 3"
    },
    "accelerator": "GPU"
  },
  "cells": [
    {
      "cell_type": "markdown",
      "metadata": {
        "id": "h5cjtsHP8t5Y"
      },
      "source": [
        "#Natural Language Processing \n",
        "Natural Language Processing (or NLP for short) is a discipline in computing that deals with the communication between natural (human) languages and computer languages. A common example of NLP is something like spellcheck or autocomplete. Essentially NLP is the field that focuses on how computers can understand and/or process natural/human languages. \n",
        "\n",
        "###Recurrent Neural Networks\n",
        "\n",
        "In this tutorial we will introduce a new kind of neural network that is much more capable of processing sequential data such as text or characters called a **recurrent neural network** (RNN for short). \n",
        "\n",
        "We will learn how to use a reccurent neural network to do the following:\n",
        "- Sentiment Analysis\n",
        "- Character Generation \n",
        "\n",
        "RNN's are complex and come in many different forms so in this tutorial we wil focus on how they work and the kind of problems they are best suited for.\n",
        "\n"
      ]
    },
    {
      "cell_type": "markdown",
      "metadata": {
        "id": "ur_FQq-Q-fxC"
      },
      "source": [
        "## Sequence Data\n",
        "In the previous tutorials we focused on data that we could represent as one static data point where the notion of time or step was irrelevant. Take for example our image data, it was simply a tensor of shape (width, height, channels). That data doesn't change or care about the notion of time. \n",
        "\n",
        "In this tutorial we will look at sequences of text and learn how we can encode them in a meaningful way. Unlike images, sequence data such as long chains of text, weather patterns, videos and really anything where the notion of a step or time is relevant needs to be processed and handled in a special way. \n",
        "\n",
        "But what do I mean by sequences and why is text data a sequence? Well that's a good question. Since textual data contains many words that follow in a very specific and meaningful order, we need to be able to keep track of each word and when it occurs in the data. Simply encoding say an entire paragraph of text into one data point wouldn't give us a very meaningful picture of the data and would be very difficult to do anything with. This is why we treat text as a sequence and process one word at a time. We will keep track of where each of these words appear and use that information to try to understand the meaning of peices of text.\n",
        "\n"
      ]
    },
    {
      "cell_type": "markdown",
      "metadata": {
        "id": "8gQHK4V4e2wl"
      },
      "source": [
        "##Encoding Text\n",
        "As we know machine learning models and neural networks don't take raw text data as an input. This means we must somehow encode our textual data to numeric values that our models can understand. There are many different ways of doing this and we will look at a few examples below. \n",
        "\n",
        "Before we get into the different encoding/preprocessing methods let's understand the information we can get from textual data by looking at the following two movie reviews.\n",
        "\n",
        "```I thought the movie was going to be bad, but it was actually amazing!```\n",
        "\n",
        "```I thought the movie was going to be amazing, but it was actually bad!```\n",
        "\n",
        "Although these two setences are very similar we know that they have very different meanings. This is because of the **ordering** of words, a very important property of textual data.\n",
        "\n",
        "Now keep that in mind while we consider some different ways of encoding our textual data.\n",
        "\n",
        "###Bag of Words\n",
        "The first and simplest way to encode our data is to use something called **bag of words**. This is a pretty easy technique where each word in a sentence is encoded with an integer and thrown into a collection that does not maintain the order of the words but does keep track of the frequency. Have a look at the python function below that encodes a string of text into bag of words. "
      ]
    },
    {
      "cell_type": "code",
      "metadata": {
        "id": "5KiCCBsIkMHi",
        "colab": {
          "base_uri": "https://localhost:8080/"
        },
        "outputId": "c3c55cc3-bc5c-4690-aed7-2a188c873543"
      },
      "source": [
        "vocab = {}  # maps word to integer representing it\n",
        "word_encoding = 1\n",
        "def bag_of_words(text):\n",
        "  global word_encoding\n",
        "\n",
        "  words = text.lower().split(\" \")  # create a list of all of the words in the text, well assume there is no grammar in our text for this example\n",
        "  bag = {}  # stores all of the encodings and their frequency\n",
        "\n",
        "  for word in words:\n",
        "    if word in vocab:\n",
        "      encoding = vocab[word]  # get encoding from vocab\n",
        "    else:\n",
        "      vocab[word] = word_encoding\n",
        "      encoding = word_encoding\n",
        "      word_encoding += 1\n",
        "    \n",
        "    if encoding in bag:\n",
        "      bag[encoding] += 1\n",
        "    else:\n",
        "      bag[encoding] = 1\n",
        "  \n",
        "  return bag\n",
        "\n",
        "text = \"this is a test to see if this test will work is is test a a\"\n",
        "bag = bag_of_words(text)\n",
        "print(bag)\n",
        "print(vocab)"
      ],
      "execution_count": null,
      "outputs": [
        {
          "output_type": "stream",
          "text": [
            "{1: 2, 2: 3, 3: 3, 4: 3, 5: 1, 6: 1, 7: 1, 8: 1, 9: 1}\n",
            "{'this': 1, 'is': 2, 'a': 3, 'test': 4, 'to': 5, 'see': 6, 'if': 7, 'will': 8, 'work': 9}\n"
          ],
          "name": "stdout"
        }
      ]
    },
    {
      "cell_type": "markdown",
      "metadata": {
        "id": "4hEvstSBl1gy"
      },
      "source": [
        "This isn't really the way we would do this in practice, but I hope it gives you an idea of how bag of words works. Notice that we've lost the order in which words appear. In fact, let's look at how this encoding works for the two sentences we showed above.\n",
        "\n"
      ]
    },
    {
      "cell_type": "code",
      "metadata": {
        "id": "miYshfvzmJ0H",
        "colab": {
          "base_uri": "https://localhost:8080/"
        },
        "outputId": "43f01e44-ae37-4cb1-a02b-da265586a969"
      },
      "source": [
        "positive_review = \"I thought the movie was going to be bad but it was actually amazing\"\n",
        "negative_review = \"I thought the movie was going to be amazing but it was actually bad\"\n",
        "\n",
        "pos_bag = bag_of_words(positive_review)\n",
        "neg_bag = bag_of_words(negative_review)\n",
        "\n",
        "print(\"Positive:\", pos_bag)\n",
        "print(\"Negative:\", neg_bag)"
      ],
      "execution_count": null,
      "outputs": [
        {
          "output_type": "stream",
          "text": [
            "Positive: {10: 1, 11: 1, 12: 1, 13: 1, 14: 2, 15: 1, 5: 1, 16: 1, 17: 1, 18: 1, 19: 1, 20: 1, 21: 1}\n",
            "Negative: {10: 1, 11: 1, 12: 1, 13: 1, 14: 2, 15: 1, 5: 1, 16: 1, 21: 1, 18: 1, 19: 1, 20: 1, 17: 1}\n"
          ],
          "name": "stdout"
        }
      ]
    },
    {
      "cell_type": "markdown",
      "metadata": {
        "id": "Pl7Fw9s3mkfK"
      },
      "source": [
        "We can see that even though these sentences have a very different meaning they are encoded exaclty the same way. Obviously, this isn't going to fly. Let's look at some other methods.\n",
        "\n"
      ]
    },
    {
      "cell_type": "markdown",
      "metadata": {
        "id": "DUKTycffmu1k"
      },
      "source": [
        "###Integer Encoding\n",
        "The next technique we will look at is called **integer encoding**. This involves representing each word or character in a sentence as a unique integer and maintaining the order of these words. This should hopefully fix the problem we saw before were we lost the order of words.\n"
      ]
    },
    {
      "cell_type": "code",
      "metadata": {
        "id": "MKY4y_tjnUEW",
        "colab": {
          "base_uri": "https://localhost:8080/"
        },
        "outputId": "671d18e6-7598-4ee7-d1a3-9321ad3c61a6"
      },
      "source": [
        "vocab = {}  \n",
        "word_encoding = 1\n",
        "def one_hot_encoding(text):\n",
        "  global word_encoding\n",
        "\n",
        "  words = text.lower().split(\" \") \n",
        "  encoding = []  \n",
        "\n",
        "  for word in words:\n",
        "    if word in vocab:\n",
        "      code = vocab[word]  \n",
        "      encoding.append(code) \n",
        "    else:\n",
        "      vocab[word] = word_encoding\n",
        "      encoding.append(word_encoding)\n",
        "      word_encoding += 1\n",
        "  \n",
        "  return encoding\n",
        "\n",
        "text = \"this is a test to see if this test will work is is test a a\"\n",
        "encoding = one_hot_encoding(text)\n",
        "print(encoding)\n",
        "print(vocab)"
      ],
      "execution_count": null,
      "outputs": [
        {
          "output_type": "stream",
          "text": [
            "[1, 2, 3, 4, 5, 6, 7, 1, 4, 8, 9, 2, 2, 4, 3, 3]\n",
            "{'this': 1, 'is': 2, 'a': 3, 'test': 4, 'to': 5, 'see': 6, 'if': 7, 'will': 8, 'work': 9}\n"
          ],
          "name": "stdout"
        }
      ]
    },
    {
      "cell_type": "markdown",
      "metadata": {
        "id": "TOrLG9Bin0Zv"
      },
      "source": [
        "And now let's have a look at one hot encoding on our movie reviews."
      ]
    },
    {
      "cell_type": "code",
      "metadata": {
        "id": "1S-GNjotn-Br",
        "colab": {
          "base_uri": "https://localhost:8080/"
        },
        "outputId": "400415da-f3f7-42fa-b0d0-d41ece8d23a7"
      },
      "source": [
        "positive_review = \"I thought the movie was going to be bad but it was actually amazing\"\n",
        "negative_review = \"I thought the movie was going to be amazing but it was actually bad\"\n",
        "\n",
        "pos_encode = one_hot_encoding(positive_review)\n",
        "neg_encode = one_hot_encoding(negative_review)\n",
        "\n",
        "print(\"Positive:\", pos_encode)\n",
        "print(\"Negative:\", neg_encode)"
      ],
      "execution_count": null,
      "outputs": [
        {
          "output_type": "stream",
          "text": [
            "Positive: [10, 11, 12, 13, 14, 15, 5, 16, 17, 18, 19, 14, 20, 21]\n",
            "Negative: [10, 11, 12, 13, 14, 15, 5, 16, 21, 18, 19, 14, 20, 17]\n"
          ],
          "name": "stdout"
        }
      ]
    },
    {
      "cell_type": "markdown",
      "metadata": {
        "id": "jC9UYV4vpq6Y"
      },
      "source": [
        "Much better, now we are keeping track of the order of words and we can tell where each occurs. But this still has a few issues with it. Ideally when we encode words, we would like similar words to have similar labels and different words to have very different labels. For example, the words happy and joyful should probably have very similar labels so we can determine that they are similar. While words like horrible and amazing should probably have very different labels. The method we looked at above won't be able to do something like this for us. This could mean that the model will have a very difficult time determing if two words are similar or not which could result in some pretty drastic performace impacts.\n",
        "\n"
      ]
    },
    {
      "cell_type": "markdown",
      "metadata": {
        "id": "JRZ73YCqqiw9"
      },
      "source": [
        "###Word Embeddings\n",
        "Luckily there is a third method that is far superior, **word embeddings**. This method keeps the order of words intact as well as encodes similar words with very similar labels. It attempts to not only encode the frequency and order of words but the meaning of those words in the sentence. It encodes each word as a dense vector that represents its context in the sentence.\n",
        "\n",
        "Unlike the previous techniques word embeddings are learned by looking at many different training examples. You can add what's called an *embedding layer* to the beggining of your model and while your model trains your embedding layer will learn the correct embeddings for words. You can also use pretrained embedding layers.\n",
        "\n",
        "This is the technique we will use for our examples and its implementation will be showed later on.\n",
        "\n"
      ]
    },
    {
      "cell_type": "markdown",
      "metadata": {
        "id": "ehig3qliuUzk"
      },
      "source": [
        "##Recurrent Neural Networks (RNN's)\n",
        "Now that we've learned a little bit about how we can encode text it's time to dive into recurrent neural networks. Up until this point we have been using something called **feed-forward** neural networks. This simply means that all our data is fed forwards (all at once) from left to right through the network. This was fine for the problems we considered before but won't work very well for processing text. After all, even we (humans) don't process text all at once. We read word by word from left to right and keep track of the current meaning of the sentence so we can understand the meaning of the next word. Well this is exaclty what a recurrent neural network is designed to do. When we say recurrent neural network all we really mean is a network that contains a loop. A RNN will process one word at a time while maintaining an internal memory of what it's already seen. This will allow it to treat words differently based on their order in a sentence and to slowly build an understanding of the entire input, one word at a time.\n",
        "\n",
        "This is why we are treating our text data as a sequence! So that we can pass one word at a time to the RNN.\n",
        "\n",
        "Let's have a look at what a recurrent layer might look like.\n",
        "\n",
        "![alt text](https://colah.github.io/posts/2015-08-Understanding-LSTMs/img/RNN-unrolled.png)\n",
        "*Source: https://colah.github.io/posts/2015-08-Understanding-LSTMs/*\n",
        "\n",
        "Let's define what all these variables stand for before we get into the explination.\n",
        "\n",
        "**h<sub>t</sub>** output at time t\n",
        "\n",
        "**x<sub>t</sub>** input at time t\n",
        "\n",
        "**A** Recurrent Layer (loop)\n",
        "\n",
        "What this diagram is trying to illustrate is that a recurrent layer processes words or input one at a time in a combination with the output from the previous iteration. So, as we progress further in the input sequence, we build a more complex understanding of the text as a whole.\n",
        "\n",
        "What we've just looked at is called a **simple RNN layer**. It can be effective at processing shorter sequences of text for simple problems but has many downfalls associated with it. One of them being the fact that as text sequences get longer it gets increasingly difficult for the network to understand the text properly.\n",
        "\n"
      ]
    },
    {
      "cell_type": "markdown",
      "metadata": {
        "id": "Fo3WY-e86zX2"
      },
      "source": [
        "##LSTM\n",
        "The layer we dicussed in depth above was called a *simpleRNN*. However, there does exist some other recurrent layers (layers that contain a loop) that work much better than a simple RNN layer. The one we will talk about here is called LSTM (Long Short-Term Memory). This layer works very similarily to the simpleRNN layer but adds a way to access inputs from any timestep in the past. Whereas in our simple RNN layer input from previous timestamps gradually disappeared as we got further through the input. With a LSTM we have a long-term memory data structure storing all the previously seen inputs as well as when we saw them. This allows for us to access any previous value we want at any point in time. This adds to the complexity of our network and allows it to discover more useful relationships between inputs and when they appear. \n",
        "\n",
        "For the purpose of this course we will refrain from going any further into the math or details behind how these layers work.\n",
        "\n"
      ]
    },
    {
      "cell_type": "markdown",
      "metadata": {
        "id": "CRGOx6_v4eZ_"
      },
      "source": [
        "##Sentiment Analysis\n",
        "And now time to see a recurrent neural network in action. For this example, we are going to do something called sentiment analysis.\n",
        "\n",
        "The formal definition of this term from Wikipedia is as follows:\n",
        "\n",
        "*the process of computationally identifying and categorizing opinions expressed in a piece of text, especially in order to determine whether the writer's attitude towards a particular topic, product, etc. is positive, negative, or neutral.*\n",
        "\n",
        "The example we’ll use here is classifying movie reviews as either postive, negative or neutral.\n",
        "\n",
        "*This guide is based on the following tensorflow tutorial: https://www.tensorflow.org/tutorials/text/text_classification_rnn*\n",
        "\n"
      ]
    },
    {
      "cell_type": "markdown",
      "metadata": {
        "id": "RACGE5Ypt5u9"
      },
      "source": [
        "###Movie Review Dataset\n",
        "Well start by loading in the IMDB movie review dataset from keras. This dataset contains 25,000 reviews from IMDB where each one is already preprocessed and has a label as either positive or negative. Each review is encoded by integers that represents how common a word is in the entire dataset. For example, a word encoded by the integer 3 means that it is the 3rd most common word in the dataset.\n",
        " \n",
        "\n",
        "\n"
      ]
    },
    {
      "cell_type": "code",
      "metadata": {
        "id": "pdsus1kyXWC8",
        "colab": {
          "base_uri": "https://localhost:8080/"
        },
        "outputId": "f1cf4048-dd57-4670-8cc1-82a4bb9a4cd1"
      },
      "source": [
        "%tensorflow_version 2.x  # this line is not required unless you are in a notebook\n",
        "from keras.datasets import imdb\n",
        "from keras.preprocessing import sequence\n",
        "import keras\n",
        "import tensorflow as tf\n",
        "import os\n",
        "import numpy as np\n",
        "\n",
        "VOCAB_SIZE = 88584\n",
        "\n",
        "MAXLEN = 250\n",
        "BATCH_SIZE = 64\n",
        "\n",
        "(train_data, train_labels), (test_data, test_labels) = imdb.load_data(num_words = VOCAB_SIZE)"
      ],
      "execution_count": null,
      "outputs": [
        {
          "output_type": "stream",
          "text": [
            "`%tensorflow_version` only switches the major version: 1.x or 2.x.\n",
            "You set: `2.x  # this line is not required unless you are in a notebook`. This will be interpreted as: `2.x`.\n",
            "\n",
            "\n",
            "TensorFlow is already loaded. Please restart the runtime to change versions.\n"
          ],
          "name": "stdout"
        }
      ]
    },
    {
      "cell_type": "code",
      "metadata": {
        "id": "Wh6lOpcQ9sIZ",
        "colab": {
          "base_uri": "https://localhost:8080/"
        },
        "outputId": "41a0383f-97fe-4efb-e5fa-53d56532d5fd"
      },
      "source": [
        "# Lets look at one review\n",
        "train_data[1]"
      ],
      "execution_count": null,
      "outputs": [
        {
          "output_type": "execute_result",
          "data": {
            "text/plain": [
              "[1,\n",
              " 194,\n",
              " 1153,\n",
              " 194,\n",
              " 8255,\n",
              " 78,\n",
              " 228,\n",
              " 5,\n",
              " 6,\n",
              " 1463,\n",
              " 4369,\n",
              " 5012,\n",
              " 134,\n",
              " 26,\n",
              " 4,\n",
              " 715,\n",
              " 8,\n",
              " 118,\n",
              " 1634,\n",
              " 14,\n",
              " 394,\n",
              " 20,\n",
              " 13,\n",
              " 119,\n",
              " 954,\n",
              " 189,\n",
              " 102,\n",
              " 5,\n",
              " 207,\n",
              " 110,\n",
              " 3103,\n",
              " 21,\n",
              " 14,\n",
              " 69,\n",
              " 188,\n",
              " 8,\n",
              " 30,\n",
              " 23,\n",
              " 7,\n",
              " 4,\n",
              " 249,\n",
              " 126,\n",
              " 93,\n",
              " 4,\n",
              " 114,\n",
              " 9,\n",
              " 2300,\n",
              " 1523,\n",
              " 5,\n",
              " 647,\n",
              " 4,\n",
              " 116,\n",
              " 9,\n",
              " 35,\n",
              " 8163,\n",
              " 4,\n",
              " 229,\n",
              " 9,\n",
              " 340,\n",
              " 1322,\n",
              " 4,\n",
              " 118,\n",
              " 9,\n",
              " 4,\n",
              " 130,\n",
              " 4901,\n",
              " 19,\n",
              " 4,\n",
              " 1002,\n",
              " 5,\n",
              " 89,\n",
              " 29,\n",
              " 952,\n",
              " 46,\n",
              " 37,\n",
              " 4,\n",
              " 455,\n",
              " 9,\n",
              " 45,\n",
              " 43,\n",
              " 38,\n",
              " 1543,\n",
              " 1905,\n",
              " 398,\n",
              " 4,\n",
              " 1649,\n",
              " 26,\n",
              " 6853,\n",
              " 5,\n",
              " 163,\n",
              " 11,\n",
              " 3215,\n",
              " 10156,\n",
              " 4,\n",
              " 1153,\n",
              " 9,\n",
              " 194,\n",
              " 775,\n",
              " 7,\n",
              " 8255,\n",
              " 11596,\n",
              " 349,\n",
              " 2637,\n",
              " 148,\n",
              " 605,\n",
              " 15358,\n",
              " 8003,\n",
              " 15,\n",
              " 123,\n",
              " 125,\n",
              " 68,\n",
              " 23141,\n",
              " 6853,\n",
              " 15,\n",
              " 349,\n",
              " 165,\n",
              " 4362,\n",
              " 98,\n",
              " 5,\n",
              " 4,\n",
              " 228,\n",
              " 9,\n",
              " 43,\n",
              " 36893,\n",
              " 1157,\n",
              " 15,\n",
              " 299,\n",
              " 120,\n",
              " 5,\n",
              " 120,\n",
              " 174,\n",
              " 11,\n",
              " 220,\n",
              " 175,\n",
              " 136,\n",
              " 50,\n",
              " 9,\n",
              " 4373,\n",
              " 228,\n",
              " 8255,\n",
              " 5,\n",
              " 25249,\n",
              " 656,\n",
              " 245,\n",
              " 2350,\n",
              " 5,\n",
              " 4,\n",
              " 9837,\n",
              " 131,\n",
              " 152,\n",
              " 491,\n",
              " 18,\n",
              " 46151,\n",
              " 32,\n",
              " 7464,\n",
              " 1212,\n",
              " 14,\n",
              " 9,\n",
              " 6,\n",
              " 371,\n",
              " 78,\n",
              " 22,\n",
              " 625,\n",
              " 64,\n",
              " 1382,\n",
              " 9,\n",
              " 8,\n",
              " 168,\n",
              " 145,\n",
              " 23,\n",
              " 4,\n",
              " 1690,\n",
              " 15,\n",
              " 16,\n",
              " 4,\n",
              " 1355,\n",
              " 5,\n",
              " 28,\n",
              " 6,\n",
              " 52,\n",
              " 154,\n",
              " 462,\n",
              " 33,\n",
              " 89,\n",
              " 78,\n",
              " 285,\n",
              " 16,\n",
              " 145,\n",
              " 95]"
            ]
          },
          "metadata": {
            "tags": []
          },
          "execution_count": 14
        }
      ]
    },
    {
      "cell_type": "markdown",
      "metadata": {
        "id": "EAtZHE9-eQ07"
      },
      "source": [
        "###More Preprocessing\n",
        "If we have a look at some of our loaded in reviews, we'll notice that they are different lengths. This is an issue. We cannot pass different length data into our neural network. Therefore, we must make each review the same length. To do this we will follow the procedure below:\n",
        "- if the review is greater than 250 words then trim off the extra words\n",
        "- if the review is less than 250 words add the necessary amount of 0's to make it equal to 250.\n",
        "\n",
        "Luckily for us keras has a function that can do this for us:\n",
        "\n",
        "\n"
      ]
    },
    {
      "cell_type": "code",
      "metadata": {
        "id": "Z3qQ83sNeog6"
      },
      "source": [
        "train_data = sequence.pad_sequences(train_data, MAXLEN) # pads_sequences adjusts the length to the argument of MAXLEN (250)\n",
        "test_data = sequence.pad_sequences(test_data, MAXLEN)"
      ],
      "execution_count": null,
      "outputs": []
    },
    {
      "cell_type": "markdown",
      "metadata": {
        "id": "mDm_0RTVir7I"
      },
      "source": [
        "###Creating the Model\n",
        "Now it's time to create the model. We'll use a word embedding layer as the first layer in our model and add a LSTM layer afterwards that feeds into a dense node to get our predicted sentiment. \n",
        "\n",
        "32 stands for the output dimension of the vectors generated by the embedding layer. We can change this value if we'd like!"
      ]
    },
    {
      "cell_type": "code",
      "metadata": {
        "id": "OWGGcBIpjrMu"
      },
      "source": [
        "model = tf.keras.Sequential([\n",
        "    tf.keras.layers.Embedding(VOCAB_SIZE, 32), # Embedding layer requires data be integer encoded (integer and order). Creates 32 dim. vector for every word\n",
        "    tf.keras.layers.LSTM(32), # LSTM layer with a 32 dimensionality output space.\n",
        "    tf.keras.layers.Dense(1, activation=\"sigmoid\") # Classification layer with one single neuron and sigmoid activation (only 2 classes)\n",
        "])"
      ],
      "execution_count": null,
      "outputs": []
    },
    {
      "cell_type": "code",
      "metadata": {
        "id": "O8_jPL_Kkr-a",
        "colab": {
          "base_uri": "https://localhost:8080/"
        },
        "outputId": "a706e2b9-e30a-4873-f80c-2e0f8b7b140c"
      },
      "source": [
        "model.summary()"
      ],
      "execution_count": null,
      "outputs": [
        {
          "output_type": "stream",
          "text": [
            "Model: \"sequential\"\n",
            "_________________________________________________________________\n",
            "Layer (type)                 Output Shape              Param #   \n",
            "=================================================================\n",
            "embedding (Embedding)        (None, None, 32)          2834688   \n",
            "_________________________________________________________________\n",
            "lstm (LSTM)                  (None, 32)                8320      \n",
            "_________________________________________________________________\n",
            "dense (Dense)                (None, 1)                 33        \n",
            "=================================================================\n",
            "Total params: 2,843,041\n",
            "Trainable params: 2,843,041\n",
            "Non-trainable params: 0\n",
            "_________________________________________________________________\n"
          ],
          "name": "stdout"
        }
      ]
    },
    {
      "cell_type": "markdown",
      "metadata": {
        "id": "eyeQCk3LlK6V"
      },
      "source": [
        "###Training\n",
        "Now it's time to compile and train the model. "
      ]
    },
    {
      "cell_type": "code",
      "metadata": {
        "id": "KKEMjaIulPBe",
        "colab": {
          "base_uri": "https://localhost:8080/"
        },
        "outputId": "8b430c32-0cc3-4c6a-8b17-078ddcfbe4db"
      },
      "source": [
        "model.compile(loss=\"binary_crossentropy\",optimizer=\"rmsprop\",metrics=['acc']) #binary crossentropy cause we only have two classes\n",
        "\n",
        "history = model.fit(train_data, train_labels, epochs=10, validation_split=0.2)"
      ],
      "execution_count": null,
      "outputs": [
        {
          "output_type": "stream",
          "text": [
            "Epoch 1/10\n",
            "625/625 [==============================] - 61s 98ms/step - loss: 0.4192 - acc: 0.8092 - val_loss: 0.2841 - val_acc: 0.8830\n",
            "Epoch 2/10\n",
            "625/625 [==============================] - 60s 96ms/step - loss: 0.2388 - acc: 0.9087 - val_loss: 0.2678 - val_acc: 0.8866\n",
            "Epoch 3/10\n",
            "625/625 [==============================] - 60s 96ms/step - loss: 0.1849 - acc: 0.9325 - val_loss: 0.2664 - val_acc: 0.8912\n",
            "Epoch 4/10\n",
            "625/625 [==============================] - 60s 95ms/step - loss: 0.1494 - acc: 0.9478 - val_loss: 0.2832 - val_acc: 0.8800\n",
            "Epoch 5/10\n",
            "625/625 [==============================] - 60s 95ms/step - loss: 0.1290 - acc: 0.9550 - val_loss: 0.3558 - val_acc: 0.8888\n",
            "Epoch 6/10\n",
            "625/625 [==============================] - 60s 96ms/step - loss: 0.1091 - acc: 0.9614 - val_loss: 0.3347 - val_acc: 0.8770\n",
            "Epoch 7/10\n",
            "625/625 [==============================] - 60s 96ms/step - loss: 0.1010 - acc: 0.9663 - val_loss: 0.3276 - val_acc: 0.8864\n",
            "Epoch 8/10\n",
            "625/625 [==============================] - 60s 96ms/step - loss: 0.0850 - acc: 0.9727 - val_loss: 0.3543 - val_acc: 0.8844\n",
            "Epoch 9/10\n",
            "625/625 [==============================] - 60s 96ms/step - loss: 0.0763 - acc: 0.9753 - val_loss: 0.3939 - val_acc: 0.8850\n",
            "Epoch 10/10\n",
            "625/625 [==============================] - 60s 96ms/step - loss: 0.0686 - acc: 0.9776 - val_loss: 0.3587 - val_acc: 0.8798\n"
          ],
          "name": "stdout"
        }
      ]
    },
    {
      "cell_type": "markdown",
      "metadata": {
        "id": "3buYlkkhoK93"
      },
      "source": [
        "And we'll evaluate the model on our training data to see how well it performs."
      ]
    },
    {
      "cell_type": "code",
      "metadata": {
        "id": "KImNMWTDoJaQ",
        "colab": {
          "base_uri": "https://localhost:8080/"
        },
        "outputId": "e6f469cf-0dc5-4dae-ba24-7ff9df0e27e8"
      },
      "source": [
        "results = model.evaluate(test_data, test_labels)\n",
        "print(results)"
      ],
      "execution_count": null,
      "outputs": [
        {
          "output_type": "stream",
          "text": [
            "782/782 [==============================] - 17s 21ms/step - loss: 0.4316 - acc: 0.8548\n",
            "[0.43164724111557007, 0.8547999858856201]\n"
          ],
          "name": "stdout"
        }
      ]
    },
    {
      "cell_type": "markdown",
      "metadata": {
        "id": "N1RRGcr9CFCW"
      },
      "source": [
        "So we're scoring somewhere in the mid-high 80's. Not bad for a simple recurrent network."
      ]
    },
    {
      "cell_type": "markdown",
      "metadata": {
        "id": "lGrBRC4YCObV"
      },
      "source": [
        "###Making Predictions\n",
        "Now let’s use our network to make predictions on our own reviews. \n",
        "\n",
        "Since our reviews are encoded well need to convert any review that we write into that form so the network can understand it. To do that well load the encodings from the dataset and use them to encode our own data.\n",
        "\n",
        "\n"
      ]
    },
    {
      "cell_type": "code",
      "metadata": {
        "id": "Onu8leY4Cn9z",
        "colab": {
          "base_uri": "https://localhost:8080/"
        },
        "outputId": "d1c0e482-8741-45a3-9907-d6bd9f7ce684"
      },
      "source": [
        "# get every index dictionary of the imdb dataset.\n",
        "word_index = imdb.get_word_index()\n",
        "\n",
        "# pre-process some text like our training data\n",
        "def encode_text(text):\n",
        "  tokens = keras.preprocessing.text.text_to_word_sequence(text) # convert all the text into tokens (individual words themself)\n",
        "  tokens = [word_index[word] if word in word_index else 0 for word in tokens] # if the individual word is in IMDB dictionary then write the integer, else 0\n",
        "  return sequence.pad_sequences([tokens], MAXLEN)[0] # adjusts the lenght of the review to 250 (MAXLEN)\n",
        "\n",
        "text = \"that movie was just amazing, so amazing\"\n",
        "encoded = encode_text(text)\n",
        "print(encoded)\n"
      ],
      "execution_count": null,
      "outputs": [
        {
          "output_type": "stream",
          "text": [
            "[  0   0   0   0   0   0   0   0   0   0   0   0   0   0   0   0   0   0\n",
            "   0   0   0   0   0   0   0   0   0   0   0   0   0   0   0   0   0   0\n",
            "   0   0   0   0   0   0   0   0   0   0   0   0   0   0   0   0   0   0\n",
            "   0   0   0   0   0   0   0   0   0   0   0   0   0   0   0   0   0   0\n",
            "   0   0   0   0   0   0   0   0   0   0   0   0   0   0   0   0   0   0\n",
            "   0   0   0   0   0   0   0   0   0   0   0   0   0   0   0   0   0   0\n",
            "   0   0   0   0   0   0   0   0   0   0   0   0   0   0   0   0   0   0\n",
            "   0   0   0   0   0   0   0   0   0   0   0   0   0   0   0   0   0   0\n",
            "   0   0   0   0   0   0   0   0   0   0   0   0   0   0   0   0   0   0\n",
            "   0   0   0   0   0   0   0   0   0   0   0   0   0   0   0   0   0   0\n",
            "   0   0   0   0   0   0   0   0   0   0   0   0   0   0   0   0   0   0\n",
            "   0   0   0   0   0   0   0   0   0   0   0   0   0   0   0   0   0   0\n",
            "   0   0   0   0   0   0   0   0   0   0   0   0   0   0   0   0   0   0\n",
            "   0   0   0   0   0   0   0   0   0  12  17  13  40 477  35 477]\n"
          ],
          "name": "stdout"
        }
      ]
    },
    {
      "cell_type": "code",
      "metadata": {
        "id": "PKna3vxmFwrB",
        "colab": {
          "base_uri": "https://localhost:8080/"
        },
        "outputId": "a776e2f0-9fe4-4e16-e930-557e97f499ee"
      },
      "source": [
        "# while were at it lets make a decode function to translate back again to words\n",
        "\n",
        "reverse_word_index = {value: key for (key, value) in word_index.items()}\n",
        "\n",
        "def decode_integers(integers):\n",
        "    PAD = 0\n",
        "    text = \"\"\n",
        "    for num in integers:\n",
        "      if num != PAD: # if the number is not zero\n",
        "        text += reverse_word_index[num] + \" \" # add the integer/word to the text variable plus a space\n",
        "\n",
        "    return text[:-1] # return everything except the last space added\n",
        "  \n",
        "print(decode_integers(encoded))"
      ],
      "execution_count": null,
      "outputs": [
        {
          "output_type": "stream",
          "text": [
            "that movie was just amazing so amazing\n"
          ],
          "name": "stdout"
        }
      ]
    },
    {
      "cell_type": "code",
      "metadata": {
        "id": "L8nyrr00HPZF",
        "colab": {
          "base_uri": "https://localhost:8080/"
        },
        "outputId": "e57581f5-ebd8-409d-a431-19461755df3f"
      },
      "source": [
        "''' now time to make a prediction \n",
        " - (0 - 0.5) = negative review. \n",
        " - (0.5 - 1) = positive review)'''\n",
        "\n",
        "def predict(text): # argument text is the movie review\n",
        "  encoded_text = encode_text(text) # use the function above to preprocess the text and get the integers\n",
        "  pred = np.zeros((1,250)) #creates np array 1x250 (1 row, 250 columns) of zeros. (250 is the length of the review)\n",
        "  pred[0] = encoded_text # insert the review with integers into the array we created\n",
        "  result = model.predict(pred) # predict on that array\n",
        "  print(result[0]) # print the first result of the predict\n",
        "\n",
        "positive_review = \"That movie was awesome! I really loved it and would great watch it again because it was amazingly great\"\n",
        "predict(positive_review)\n",
        "\n",
        "negative_review = \"That movie really sucked. I hated it and wouldn't watch it again. It was one of the worst things I've ever watched\"\n",
        "predict(negative_review)\n"
      ],
      "execution_count": null,
      "outputs": [
        {
          "output_type": "stream",
          "text": [
            "[0.8895886]\n",
            "[0.35574287]\n"
          ],
          "name": "stdout"
        }
      ]
    },
    {
      "cell_type": "markdown",
      "metadata": {
        "id": "01BJLcGb4ZqK"
      },
      "source": [
        "##RNN Play Generator\n",
        "\n",
        "Now time for one of the coolest examples we've seen so far. We are going to use a RNN to generate a play. We will simply show the RNN an example of something we want it to recreate and it will learn how to write a version of it on its own. We'll do this using a character predictive model that will take as input a variable length sequence and predict the next character. We can use the model many times in a row with the output from the last predicition as the input for the next call to generate a sequence.\n",
        "\n",
        "\n",
        "*This guide is based on the following: https://www.tensorflow.org/tutorials/text/text_generation*"
      ]
    },
    {
      "cell_type": "code",
      "metadata": {
        "id": "fju7i1FKrK_G",
        "colab": {
          "base_uri": "https://localhost:8080/"
        },
        "outputId": "68565efc-9800-453c-8052-bb2358127bbf"
      },
      "source": [
        "%tensorflow_version 2.x  # this line is not required unless you are in a notebook\n",
        "from keras.preprocessing import sequence\n",
        "import keras\n",
        "import tensorflow as tf\n",
        "import os\n",
        "import numpy as np"
      ],
      "execution_count": null,
      "outputs": [
        {
          "output_type": "stream",
          "text": [
            "`%tensorflow_version` only switches the major version: 1.x or 2.x.\n",
            "You set: `2.x  # this line is not required unless you are in a notebook`. This will be interpreted as: `2.x`.\n",
            "\n",
            "\n",
            "TensorFlow 2.x selected.\n"
          ],
          "name": "stdout"
        }
      ]
    },
    {
      "cell_type": "markdown",
      "metadata": {
        "id": "F48c-EctQ378"
      },
      "source": [
        "###Dataset\n",
        "For this example, we only need one peice of training data. In fact, we can write our own poem or play and pass that to the network for training if we'd like. However, to make things easy we'll use an extract from a shakesphere play.\n",
        "\n",
        "\n"
      ]
    },
    {
      "cell_type": "code",
      "metadata": {
        "id": "IdRcVIhtRGlF",
        "colab": {
          "base_uri": "https://localhost:8080/"
        },
        "outputId": "e1ba51b0-3a35-4234-e6e9-b00fbc984719"
      },
      "source": [
        "path_to_file = tf.keras.utils.get_file('shakespeare.txt', 'https://storage.googleapis.com/download.tensorflow.org/data/shakespeare.txt')"
      ],
      "execution_count": null,
      "outputs": [
        {
          "output_type": "stream",
          "text": [
            "Downloading data from https://storage.googleapis.com/download.tensorflow.org/data/shakespeare.txt\n",
            "1122304/1115394 [==============================] - 0s 0us/step\n"
          ],
          "name": "stdout"
        }
      ]
    },
    {
      "cell_type": "markdown",
      "metadata": {
        "id": "NlSVGd5ACkZe"
      },
      "source": [
        "###Loading Your Own Data\n",
        "To load your own data, you'll need to upload a file from the dialog below. Then you'll need to follow the steps from above but load in this new file instead.\n",
        "\n"
      ]
    },
    {
      "cell_type": "code",
      "metadata": {
        "id": "CFYFwbJOC3bP"
      },
      "source": [
        "from google.colab import files\n",
        "path_to_file = list(files.upload().keys())[0]"
      ],
      "execution_count": null,
      "outputs": []
    },
    {
      "cell_type": "markdown",
      "metadata": {
        "id": "KtJMEqQyRhAk"
      },
      "source": [
        "###Read Contents of File\n",
        "Let's look at the contents of the file."
      ]
    },
    {
      "cell_type": "code",
      "metadata": {
        "id": "-n4oovOMRnP7",
        "colab": {
          "base_uri": "https://localhost:8080/"
        },
        "outputId": "81df09da-4dc4-4c40-af93-ee12aca1ea4f"
      },
      "source": [
        "# Read, then decode for py2 compat.\n",
        "text = open(path_to_file, 'rb').read().decode(encoding='utf-8')\n",
        "# length of text is the number of characters in it\n",
        "print ('Length of text: {} characters'.format(len(text)))"
      ],
      "execution_count": null,
      "outputs": [
        {
          "output_type": "stream",
          "text": [
            "Length of text: 1115394 characters\n"
          ],
          "name": "stdout"
        }
      ]
    },
    {
      "cell_type": "code",
      "metadata": {
        "id": "KHUxQVl7Rt10",
        "colab": {
          "base_uri": "https://localhost:8080/"
        },
        "outputId": "5ea2baed-1332-45b3-f8b7-33d2c800f0e0"
      },
      "source": [
        "# Take a look at the first 250 characters in text\n",
        "print(text[:250])"
      ],
      "execution_count": null,
      "outputs": [
        {
          "output_type": "stream",
          "text": [
            "First Citizen:\n",
            "Before we proceed any further, hear me speak.\n",
            "\n",
            "All:\n",
            "Speak, speak.\n",
            "\n",
            "First Citizen:\n",
            "You are all resolved rather to die than to famish?\n",
            "\n",
            "All:\n",
            "Resolved. resolved.\n",
            "\n",
            "First Citizen:\n",
            "First, you know Caius Marcius is chief enemy to the people.\n",
            "\n"
          ],
          "name": "stdout"
        }
      ]
    },
    {
      "cell_type": "markdown",
      "metadata": {
        "id": "5vt8Vpe0RvaJ"
      },
      "source": [
        "###Encoding\n",
        "Since this text isn't encoded yet well need to do that ourselves. We are going to encode each unique character as a different integer.\n",
        "\n"
      ]
    },
    {
      "cell_type": "code",
      "metadata": {
        "id": "C7AZNI7aRz6y"
      },
      "source": [
        "vocab = sorted(set(text)) # sort all the unique characters in the text\n",
        "# Creating a mapping from unique characters to indices\n",
        "char2idx = {u:i for i, u in enumerate(vocab)} # gives a number for every single letter in the vocabulary (letter to index)\n",
        "idx2char = np.array(vocab) # turn the initial vocabulary into a list or array\n",
        "\n",
        "def text_to_int(text): # takes some text and converts it to an integer\n",
        "  return np.array([char2idx[c] for c in text])\n",
        "\n",
        "text_as_int = text_to_int(text) #converts the entire file into integers"
      ],
      "execution_count": null,
      "outputs": []
    },
    {
      "cell_type": "code",
      "metadata": {
        "id": "_i5kvmX_SLW4",
        "colab": {
          "base_uri": "https://localhost:8080/"
        },
        "outputId": "94fec34b-af58-4ab7-d051-5c93c44723a5"
      },
      "source": [
        "# lets look at how part of our text is encoded\n",
        "print(\"Text:\", text[:13])\n",
        "print(\"Encoded:\", text_to_int(text[:13]))"
      ],
      "execution_count": null,
      "outputs": [
        {
          "output_type": "stream",
          "text": [
            "Text: First Citizen\n",
            "Encoded: [18 47 56 57 58  1 15 47 58 47 64 43 52]\n"
          ],
          "name": "stdout"
        }
      ]
    },
    {
      "cell_type": "markdown",
      "metadata": {
        "id": "mDvD5kqTWwOn"
      },
      "source": [
        "And here we will make a function that can convert our numeric values to text.\n"
      ]
    },
    {
      "cell_type": "code",
      "metadata": {
        "id": "Af52YChSW5hX",
        "colab": {
          "base_uri": "https://localhost:8080/"
        },
        "outputId": "b40456bd-a0e8-4b13-bbf3-64f16b55719d"
      },
      "source": [
        "def int_to_text(ints):\n",
        "  try:\n",
        "    ints = ints.numpy() # converts integers into a numpy array first\n",
        "  except:\n",
        "    pass # doesn't need to convert into a numpy array cause it's already one\n",
        "  return ''.join(idx2char[ints]) # join all the characters from idx2char[ints] into the ''\n",
        "\n",
        "print(int_to_text(text_as_int[:13]))"
      ],
      "execution_count": null,
      "outputs": [
        {
          "output_type": "stream",
          "text": [
            "First Citizen\n"
          ],
          "name": "stdout"
        }
      ]
    },
    {
      "cell_type": "markdown",
      "metadata": {
        "id": "T_49cl6uS0r-"
      },
      "source": [
        "###Creating Training Examples\n",
        "Remember our task is to feed the model a sequence and have it return to us the next character. This means we need to split our text data from above into many shorter sequences that we can pass to the model as training examples. \n",
        "\n",
        "The training examples we will prepapre will use a *seq_length* sequence as input and a *seq_length* sequence as the output where that sequence is the original sequence shifted one letter to the right. For example:\n",
        "\n",
        "```input: Hell | output: ello```\n",
        "\n",
        "Our first step will be to create a stream of characters from our text data."
      ]
    },
    {
      "cell_type": "code",
      "metadata": {
        "id": "xBkXz9fjUQHW"
      },
      "source": [
        "seq_length = 100  # length of sequence for a training example\n",
        "examples_per_epoch = len(text)//(seq_length+1) # examples per epoch = number of characters of the file / 101 (100 + 1 because of the output sequence)\n",
        "\n",
        "# Create training examples / targets\n",
        "char_dataset = tf.data.Dataset.from_tensor_slices(text_as_int) # converts the integers of the text to a stream of integers, slicing the tensor of integers"
      ],
      "execution_count": null,
      "outputs": []
    },
    {
      "cell_type": "markdown",
      "metadata": {
        "id": "pqmxfT7gVGlr"
      },
      "source": [
        "Next we can use the batch method to turn this stream of characters into batches of desired length."
      ]
    },
    {
      "cell_type": "code",
      "metadata": {
        "id": "Xi0xaPB_VOJl"
      },
      "source": [
        "sequences = char_dataset.batch(seq_length+1, drop_remainder=True) # turn the stream into batches of size 101 and drop the rest if it's the case"
      ],
      "execution_count": null,
      "outputs": []
    },
    {
      "cell_type": "markdown",
      "metadata": {
        "id": "fxo1Dig_VvV1"
      },
      "source": [
        "Now we need to use these sequences of length 101 and split them into input and output."
      ]
    },
    {
      "cell_type": "code",
      "metadata": {
        "id": "03zKVHTvV0Km"
      },
      "source": [
        "# all is in integers right now but we put the example in characters for better understanding\n",
        "def split_input_target(chunk):  # for the example: hello\n",
        "    input_text = chunk[:-1]  # hell\n",
        "    target_text = chunk[1:]  # ello\n",
        "    return input_text, target_text  # hell, ello\n",
        "\n",
        "dataset = sequences.map(split_input_target)  # we use map to apply the above function to every entry"
      ],
      "execution_count": null,
      "outputs": []
    },
    {
      "cell_type": "code",
      "metadata": {
        "id": "9p_y2YmgWbnc",
        "colab": {
          "base_uri": "https://localhost:8080/"
        },
        "outputId": "61cfe391-03f3-454c-d4c4-66476914cb62"
      },
      "source": [
        "'''Example of what we have just done:\n",
        "We takes the two first batches of our sequences and prints their input and output sequences'''\n",
        "for x, y in dataset.take(2):\n",
        "  print(\"\\n\\nEXAMPLE\\n\")\n",
        "  print(\"INPUT\")\n",
        "  print(int_to_text(x)) # converts the integers into the input text sequence\n",
        "  print(\"\\nOUTPUT\")\n",
        "  print(int_to_text(y)) # converts the integers into the output text sequence"
      ],
      "execution_count": null,
      "outputs": [
        {
          "output_type": "stream",
          "text": [
            "\n",
            "\n",
            "EXAMPLE\n",
            "\n",
            "INPUT\n",
            "First Citizen:\n",
            "Before we proceed any further, hear me speak.\n",
            "\n",
            "All:\n",
            "Speak, speak.\n",
            "\n",
            "First Citizen:\n",
            "You\n",
            "\n",
            "OUTPUT\n",
            "irst Citizen:\n",
            "Before we proceed any further, hear me speak.\n",
            "\n",
            "All:\n",
            "Speak, speak.\n",
            "\n",
            "First Citizen:\n",
            "You \n",
            "\n",
            "\n",
            "EXAMPLE\n",
            "\n",
            "INPUT\n",
            "are all resolved rather to die than to famish?\n",
            "\n",
            "All:\n",
            "Resolved. resolved.\n",
            "\n",
            "First Citizen:\n",
            "First, you \n",
            "\n",
            "OUTPUT\n",
            "re all resolved rather to die than to famish?\n",
            "\n",
            "All:\n",
            "Resolved. resolved.\n",
            "\n",
            "First Citizen:\n",
            "First, you k\n"
          ],
          "name": "stdout"
        }
      ]
    },
    {
      "cell_type": "markdown",
      "metadata": {
        "id": "v6OxuFKVXpwK"
      },
      "source": [
        "Finally we need to make training batches."
      ]
    },
    {
      "cell_type": "code",
      "metadata": {
        "id": "cRsKcjhXXuoD"
      },
      "source": [
        "BATCH_SIZE = 64\n",
        "VOCAB_SIZE = len(vocab)  # vocab is number of unique characters (65)\n",
        "EMBEDDING_DIM = 256 # represents how big are the vectors that represents the words\n",
        "RNN_UNITS = 1024\n",
        "\n",
        "# Buffer size to shuffle the dataset\n",
        "# (TF data is designed to work with possibly infinite sequences,\n",
        "# so it doesn't attempt to shuffle the entire sequence in memory. Instead,\n",
        "# it maintains a buffer in which it shuffles elements).\n",
        "BUFFER_SIZE = 10000\n",
        "\n",
        "data = dataset.shuffle(BUFFER_SIZE).batch(BATCH_SIZE, drop_remainder=True) # we shuffle all the dataset (sequences) with batches of 64 sequences"
      ],
      "execution_count": null,
      "outputs": []
    },
    {
      "cell_type": "markdown",
      "metadata": {
        "id": "E6YRmZLtX0d0"
      },
      "source": [
        "###Building the Model\n",
        "Now it is time to build the model. We will use an embedding layer a LSTM and one dense layer that contains a node for each unique character in our training data. The dense layer will give us a probability distribution over all nodes."
      ]
    },
    {
      "cell_type": "code",
      "metadata": {
        "id": "5v_P2dEic4qt",
        "colab": {
          "base_uri": "https://localhost:8080/"
        },
        "outputId": "87f46b5a-2cd8-4ad8-9e73-14849e15c652"
      },
      "source": [
        "def build_model(vocab_size, embedding_dim, rnn_units, batch_size):\n",
        "  model = tf.keras.Sequential([\n",
        "    tf.keras.layers.Embedding(vocab_size, embedding_dim, # input=vocab_size, output=embedding_dim, and shape of the batch\n",
        "                              batch_input_shape=[batch_size, None]),\n",
        "    tf.keras.layers.LSTM(rnn_units, # number of nodes\n",
        "                        return_sequences=True, # for seeing the full sequence in the output sequence, and not only the last output\n",
        "                        stateful=True, # If True, the last state for each sample at index i in a batch will be used as initial state in the following batch\n",
        "                        recurrent_initializer='glorot_uniform'), # good default to pick\n",
        "    tf.keras.layers.Dense(vocab_size) # final layer has the amount of characters in the vocabulary\n",
        "  ])\n",
        "  return model #returns all the model\n",
        "\n",
        "model = build_model(VOCAB_SIZE,EMBEDDING_DIM, RNN_UNITS, BATCH_SIZE) # (65,256,1024,64)\n",
        "model.summary()"
      ],
      "execution_count": null,
      "outputs": [
        {
          "output_type": "stream",
          "text": [
            "Model: \"sequential\"\n",
            "_________________________________________________________________\n",
            "Layer (type)                 Output Shape              Param #   \n",
            "=================================================================\n",
            "embedding (Embedding)        (64, None, 256)           16640     \n",
            "_________________________________________________________________\n",
            "lstm (LSTM)                  (64, None, 1024)          5246976   \n",
            "_________________________________________________________________\n",
            "dense (Dense)                (64, None, 65)            66625     \n",
            "=================================================================\n",
            "Total params: 5,330,241\n",
            "Trainable params: 5,330,241\n",
            "Non-trainable params: 0\n",
            "_________________________________________________________________\n"
          ],
          "name": "stdout"
        }
      ]
    },
    {
      "cell_type": "markdown",
      "metadata": {
        "id": "8gfnHBUOvPqE"
      },
      "source": [
        "###Creating a Loss Function\n",
        "Now we are going to create our own loss function for this problem. This is because our model will output a (64, sequence_length, 65) shaped tensor that represents the probability distribution of each character at each timestep for every sequence in the batch and because TensorFlow doesn't have a built-in loss function that can look at a 3D nested array of probabilities.\n",
        "\n"
      ]
    },
    {
      "cell_type": "markdown",
      "metadata": {
        "id": "g_ERM4F15v_S"
      },
      "source": [
        "However, before we do that let's have a look at a sample input and the output from our untrained model. This is so we can understand what the model is giving us.\n",
        "\n"
      ]
    },
    {
      "cell_type": "code",
      "metadata": {
        "id": "KdvEqlwc6_q0",
        "colab": {
          "base_uri": "https://localhost:8080/"
        },
        "outputId": "6496b5f1-4131-4510-9ddb-906b96f67c0c"
      },
      "source": [
        "for input_example_batch, target_example_batch in data.take(1): # this gives us the output of the final layer from the first example of the dataset\n",
        "  example_batch_predictions = model(input_example_batch)  # ask our model before it's trained for a prediction on our first batch of training data (64 entries)\n",
        "  print(example_batch_predictions.shape, \"# (batch_size, sequence_length, vocab_size)\")  # print out the output shape"
      ],
      "execution_count": null,
      "outputs": [
        {
          "output_type": "stream",
          "text": [
            "(64, 100, 65) # (batch_size, sequence_length, vocab_size)\n"
          ],
          "name": "stdout"
        }
      ]
    },
    {
      "cell_type": "code",
      "metadata": {
        "id": "RQS5KXwi7_NX",
        "colab": {
          "base_uri": "https://localhost:8080/"
        },
        "outputId": "4b773694-c3d4-45c2-cefa-5edcbd2c83c2"
      },
      "source": [
        "# we can see that the prediction is an array of 64 arrays, one for each entry in the batch\n",
        "print(len(example_batch_predictions)) # print the length of the first batch of our training data\n",
        "print(example_batch_predictions) # print the prediction of the first batch of our training data. We got a 3D array with the predictions of every timestep of\n",
        "# every training example (sequence) in the batch"
      ],
      "execution_count": null,
      "outputs": [
        {
          "output_type": "stream",
          "text": [
            "64\n",
            "tf.Tensor(\n",
            "[[[ 3.59557755e-03  4.56055568e-04 -8.62357672e-03 ...  4.83387522e-03\n",
            "    3.42590362e-03 -6.12006476e-03]\n",
            "  [ 5.53392433e-03 -7.16851233e-03 -7.03548081e-04 ...  2.88809300e-03\n",
            "    1.28260267e-03 -6.48903009e-03]\n",
            "  [ 7.07764877e-03 -1.23533979e-02  5.27610630e-03 ...  2.31968518e-03\n",
            "   -2.17556953e-04 -7.45583465e-03]\n",
            "  ...\n",
            "  [-8.59005377e-06 -6.07613940e-03  2.53517320e-03 ... -6.88940403e-04\n",
            "   -4.97948844e-03 -3.48728057e-03]\n",
            "  [ 2.65167095e-04 -6.59023505e-03 -4.43567149e-03 ...  3.11200740e-03\n",
            "   -3.24592763e-03 -6.24498818e-03]\n",
            "  [ 5.21713495e-03 -4.04186221e-03 -8.11704062e-03 ...  6.54191338e-03\n",
            "   -3.94967292e-03 -4.94064530e-04]]\n",
            "\n",
            " [[-2.54827528e-03 -5.29280957e-03  2.43321015e-03 ... -7.22216500e-04\n",
            "    5.70662785e-03  2.18828442e-03]\n",
            "  [-3.05462745e-03  1.17260357e-03 -1.88945141e-03 ...  3.98078980e-03\n",
            "   -1.53880566e-04  3.22312280e-03]\n",
            "  [-5.06061036e-03 -5.00811916e-03 -7.03881774e-03 ...  6.41302159e-03\n",
            "    5.73457964e-03  3.42984567e-03]\n",
            "  ...\n",
            "  [-1.78624166e-03 -1.33930449e-03 -5.07388078e-03 ... -1.96383218e-03\n",
            "    9.69613530e-03 -5.37266489e-03]\n",
            "  [-7.10836705e-03 -6.85330108e-03 -9.08320770e-03 ...  1.42720598e-03\n",
            "    1.21120540e-02 -3.50076472e-03]\n",
            "  [-1.39400084e-02 -1.10777188e-02 -1.15374033e-03 ... -3.34908813e-03\n",
            "    7.37131806e-03 -2.77421484e-03]]\n",
            "\n",
            " [[ 3.14429495e-03 -8.22486449e-03  5.26897004e-03 ... -2.54111481e-04\n",
            "   -8.93417164e-04 -2.58782250e-03]\n",
            "  [ 4.42118431e-03 -6.42725173e-03  5.33297099e-03 ... -1.79350062e-03\n",
            "   -3.69741418e-03 -6.03099540e-03]\n",
            "  [ 2.03541247e-03 -4.51911287e-03 -2.24086666e-03 ...  2.43386975e-03\n",
            "   -2.01922283e-03 -7.02366792e-03]\n",
            "  ...\n",
            "  [ 1.68149476e-03  7.85499346e-04 -1.34512968e-02 ...  6.70806784e-03\n",
            "   -6.85238186e-03 -6.32604957e-03]\n",
            "  [ 1.25813764e-03  4.69259871e-03 -1.40878474e-02 ...  9.37522389e-03\n",
            "   -8.86733923e-03 -3.92208248e-03]\n",
            "  [ 6.51179487e-03  1.49598613e-03 -1.07151382e-02 ...  3.44422646e-04\n",
            "   -8.91622435e-03 -8.09097756e-03]]\n",
            "\n",
            " ...\n",
            "\n",
            " [[-4.93765157e-03  3.72177106e-03 -1.82213704e-03 ...  5.10245562e-03\n",
            "   -3.40391905e-03  2.40030256e-03]\n",
            "  [-1.12781031e-02 -3.43281077e-03  2.71140132e-03 ... -2.24962365e-04\n",
            "   -4.73239273e-03  2.07767985e-03]\n",
            "  [-9.91348550e-03 -7.18231639e-03  2.85691489e-03 ...  2.38152267e-03\n",
            "   -6.37065712e-03 -4.39530611e-03]\n",
            "  ...\n",
            "  [ 1.08959544e-02 -3.31230089e-03 -7.15057179e-03 ... -5.10606170e-03\n",
            "   -7.48651195e-03 -1.08882412e-02]\n",
            "  [ 8.55659880e-03 -3.70701076e-03 -1.14949867e-02 ... -7.06843566e-05\n",
            "   -4.59059328e-03 -1.20684262e-02]\n",
            "  [ 3.15651717e-03  1.31671689e-03 -1.02524115e-02 ...  5.55186626e-03\n",
            "   -6.76705688e-03 -8.70615058e-03]]\n",
            "\n",
            " [[-1.05995196e-03 -1.38506980e-03 -5.81924990e-03 ...  3.11212335e-03\n",
            "    7.03094294e-04 -2.35783495e-03]\n",
            "  [ 2.81655253e-03  2.79066851e-04 -8.71651247e-03 ...  6.06009504e-03\n",
            "   -7.25964084e-04  3.31429765e-03]\n",
            "  [-5.25066350e-03 -5.43418620e-03 -1.02702156e-03 ...  1.04404450e-03\n",
            "   -1.33313856e-03  2.26222491e-03]\n",
            "  ...\n",
            "  [-9.43592051e-04 -1.21546537e-02 -5.42425225e-03 ...  2.79058306e-03\n",
            "    8.22968222e-03  8.25914368e-03]\n",
            "  [ 2.16079550e-03 -5.42288413e-04 -3.55998869e-03 ... -3.65196168e-03\n",
            "    6.38939347e-03  4.83210757e-03]\n",
            "  [ 9.38840210e-04 -6.64568227e-03 -7.13484269e-03 ... -4.03189659e-03\n",
            "   -6.89082500e-03 -8.34918697e-04]]\n",
            "\n",
            " [[ 1.53612555e-03  4.21836693e-03 -3.89399100e-03 ... -3.52751208e-03\n",
            "   -2.12933496e-03  1.27437222e-03]\n",
            "  [-2.23165797e-03  3.28349276e-03  2.16585526e-04 ...  1.73886702e-03\n",
            "    2.20567221e-03  1.65157206e-03]\n",
            "  [-1.88641506e-03  3.00395652e-04 -5.47777954e-03 ...  3.83732654e-03\n",
            "    1.90470659e-03 -3.23810149e-04]\n",
            "  ...\n",
            "  [ 2.58696312e-03 -3.74571793e-03 -8.38562846e-03 ... -6.61385991e-03\n",
            "   -2.16101576e-03  4.72090859e-03]\n",
            "  [ 9.77603719e-04 -5.21506835e-03 -1.38086285e-02 ... -2.64279800e-03\n",
            "   -7.46881124e-04  2.53047794e-04]\n",
            "  [ 2.79516866e-03 -5.61527442e-03 -1.25839226e-02 ...  1.51791063e-03\n",
            "   -1.29986461e-03  4.51251492e-03]]], shape=(64, 100, 65), dtype=float32)\n"
          ],
          "name": "stdout"
        }
      ]
    },
    {
      "cell_type": "code",
      "metadata": {
        "id": "sA1Zhop28V9n",
        "colab": {
          "base_uri": "https://localhost:8080/"
        },
        "outputId": "c4abad8f-fbda-4dcb-be7c-ad17ecabbc7a"
      },
      "source": [
        "# lets examine one prediction\n",
        "pred = example_batch_predictions[0]\n",
        "print(len(pred)) # print the length of the very first training example inside the first batch\n",
        "print(pred) # print the prediction: for every single training example inside the first batch we get *length* (100 in this case) outputs\n",
        "# notice this is a 2d array of length 100 (100 time steps), where each interior array is the prediction for the next character at EACH time step, so we got\n",
        "# a 2D array with the predictions of every timestep in the first training example (sequence) of the batch."
      ],
      "execution_count": null,
      "outputs": [
        {
          "output_type": "stream",
          "text": [
            "100\n",
            "tf.Tensor(\n",
            "[[ 3.5955776e-03  4.5605557e-04 -8.6235767e-03 ...  4.8338752e-03\n",
            "   3.4259036e-03 -6.1200648e-03]\n",
            " [ 5.5339243e-03 -7.1685123e-03 -7.0354808e-04 ...  2.8880930e-03\n",
            "   1.2826027e-03 -6.4890301e-03]\n",
            " [ 7.0776488e-03 -1.2353398e-02  5.2761063e-03 ...  2.3196852e-03\n",
            "  -2.1755695e-04 -7.4558347e-03]\n",
            " ...\n",
            " [-8.5900538e-06 -6.0761394e-03  2.5351732e-03 ... -6.8894040e-04\n",
            "  -4.9794884e-03 -3.4872806e-03]\n",
            " [ 2.6516709e-04 -6.5902350e-03 -4.4356715e-03 ...  3.1120074e-03\n",
            "  -3.2459276e-03 -6.2449882e-03]\n",
            " [ 5.2171350e-03 -4.0418622e-03 -8.1170406e-03 ...  6.5419134e-03\n",
            "  -3.9496729e-03 -4.9406453e-04]], shape=(100, 65), dtype=float32)\n"
          ],
          "name": "stdout"
        }
      ]
    },
    {
      "cell_type": "code",
      "metadata": {
        "id": "UbIoe7Ei8q3q",
        "colab": {
          "base_uri": "https://localhost:8080/"
        },
        "outputId": "eba7221f-b7f9-44a9-bc24-80fa5effa5ca"
      },
      "source": [
        "# and finally well look at a prediction at the first timestep\n",
        "time_pred = pred[0]\n",
        "print(len(time_pred)) # print the length of the very first timestep inside the first training example inside the first batch\n",
        "print(time_pred) # print the prediction: for every single timestep inside 1st training example inside the first batch we get *length* (65 in this case) outputs\n",
        "# and of course its 65 values representing the probability of each character occuring next"
      ],
      "execution_count": null,
      "outputs": [
        {
          "output_type": "stream",
          "text": [
            "65\n",
            "tf.Tensor(\n",
            "[ 0.00359558  0.00045606 -0.00862358  0.00399215 -0.00171073 -0.0016705\n",
            "  0.00180821  0.00209641 -0.00526769 -0.00056423  0.00077079  0.00373395\n",
            "  0.00170076 -0.0033618   0.00232039 -0.0049313  -0.00088408 -0.00131902\n",
            "  0.00604895  0.00197199 -0.00322425  0.00106036  0.00048937  0.00287598\n",
            "  0.00300145  0.00214393 -0.00133249  0.00264432 -0.00076504  0.00269905\n",
            "  0.0007117  -0.00248711 -0.00078955 -0.00370027  0.00261119 -0.00417354\n",
            "  0.00139081  0.00194199 -0.00490035  0.00480163  0.00215964  0.00332507\n",
            " -0.00130802 -0.00226522  0.00170921  0.00339936  0.00032932 -0.00126746\n",
            "  0.00395518  0.00303233  0.00180264  0.00173981  0.00087665  0.00601361\n",
            " -0.00025024  0.00152826  0.00279757 -0.00085418 -0.00718535 -0.00511202\n",
            "  0.00205498  0.00068444  0.00483388  0.0034259  -0.00612006], shape=(65,), dtype=float32)\n"
          ],
          "name": "stdout"
        }
      ]
    },
    {
      "cell_type": "code",
      "metadata": {
        "id": "qlEYM1H995gR",
        "colab": {
          "base_uri": "https://localhost:8080/",
          "height": 35
        },
        "outputId": "6ea2fa7b-f4a5-4307-8b02-b1ac6e29f73b"
      },
      "source": [
        "# If we want to determine the predicted character we need to sample the output distribution (pick a value based on probability distribution)\n",
        "sampled_indices = tf.random.categorical(pred, num_samples=1) # sample the 2D array of the prediction of every timestep of the first training example in batch\n",
        "\n",
        "# now we can reshape that array and convert all the integers to numbers to see the actual characters\n",
        "sampled_indices = np.reshape(sampled_indices, (1, -1))[0] # change the shape of the sample (100,65) to ¿(1,100)?\n",
        "predicted_chars = int_to_text(sampled_indices) # converts the numbers to the actual characters\n",
        "\n",
        "predicted_chars  # show what the model predicted for every timestep in training sequence 1: all the predicted characters that it had"
      ],
      "execution_count": null,
      "outputs": [
        {
          "output_type": "execute_result",
          "data": {
            "application/vnd.google.colaboratory.intrinsic+json": {
              "type": "string"
            },
            "text/plain": [
              "'tPVHUxaItYOW,utsF!t.DWeZjWqsZze-3uljoY3qSr&qgwvHeMG.zIlvA CpJmbhZD3RfSu:lHPupF;YQ$IqDIwFG:achPR-iZAa'"
            ]
          },
          "metadata": {
            "tags": []
          },
          "execution_count": 21
        }
      ]
    },
    {
      "cell_type": "markdown",
      "metadata": {
        "id": "qcCBfPjN9Cnp"
      },
      "source": [
        "So now we need to create a loss function that can compare that output to the expected output and give us some numeric value representing how close the two were. "
      ]
    },
    {
      "cell_type": "code",
      "metadata": {
        "id": "ZOw23fWq9D9O"
      },
      "source": [
        "# this loss function takes all the labels and all the probability distributions and compute the loss to see how different or similar these two things are\n",
        "def loss(labels, logits):\n",
        "  return tf.keras.losses.sparse_categorical_crossentropy(labels, logits, from_logits=True) # Use this loss function when there are two or more labels"
      ],
      "execution_count": null,
      "outputs": []
    },
    {
      "cell_type": "markdown",
      "metadata": {
        "id": "kcg75GwXgW81"
      },
      "source": [
        "###Compiling the Model\n",
        "At this point we can think of our problem as a classification problem where the model predicts the probabillity of each unique letter coming next. \n"
      ]
    },
    {
      "cell_type": "code",
      "metadata": {
        "id": "9g6o7zA_hAiS"
      },
      "source": [
        "model.compile(optimizer='adam', loss=loss) # compile the model with 'adam' optimizer and the loss defined above"
      ],
      "execution_count": null,
      "outputs": []
    },
    {
      "cell_type": "markdown",
      "metadata": {
        "id": "YgDKr4yvjLPI"
      },
      "source": [
        "###Creating Checkpoints\n",
        "Now we are going to setup and configure our model to save checkpoinst as it trains. This will allow us to load our model from a checkpoint and continue training it."
      ]
    },
    {
      "cell_type": "code",
      "metadata": {
        "id": "v7aMushYjSpy"
      },
      "source": [
        "# Directory where the checkpoints will be saved\n",
        "checkpoint_dir = './training_checkpoints'\n",
        "# Name of the checkpoint files\n",
        "checkpoint_prefix = os.path.join(checkpoint_dir, \"ckpt_{epoch}\") # ./training_checkpoints/ckpt_{epoch}\n",
        "\n",
        "checkpoint_callback=tf.keras.callbacks.ModelCheckpoint(\n",
        "    filepath=checkpoint_prefix, # path to save the model file\n",
        "    save_weights_only=True) #  only the model's weights will be saved"
      ],
      "execution_count": null,
      "outputs": []
    },
    {
      "cell_type": "markdown",
      "metadata": {
        "id": "0p7acPvGja5c"
      },
      "source": [
        "###Training\n",
        "Finally, we will start training the model. \n",
        "\n",
        "**If this is taking a while go to Runtime > Change Runtime Type and choose \"GPU\" under hardware accelerator.**\n",
        "\n"
      ]
    },
    {
      "cell_type": "code",
      "metadata": {
        "id": "R4PAgrwMjZ4_",
        "colab": {
          "base_uri": "https://localhost:8080/"
        },
        "outputId": "80298834-d102-4fcd-f15b-98d2bc036ecd"
      },
      "source": [
        "history = model.fit(data, epochs=50, callbacks=[checkpoint_callback])"
      ],
      "execution_count": null,
      "outputs": [
        {
          "output_type": "stream",
          "text": [
            "Epoch 1/50\n",
            "172/172 [==============================] - 9s 54ms/step - loss: 2.7606\n",
            "Epoch 2/50\n",
            "172/172 [==============================] - 9s 54ms/step - loss: 2.0729\n",
            "Epoch 3/50\n",
            "172/172 [==============================] - 9s 54ms/step - loss: 1.8164\n",
            "Epoch 4/50\n",
            "172/172 [==============================] - 9s 54ms/step - loss: 1.6635\n",
            "Epoch 5/50\n",
            "172/172 [==============================] - 9s 54ms/step - loss: 1.5661\n",
            "Epoch 6/50\n",
            "172/172 [==============================] - 9s 54ms/step - loss: 1.4982\n",
            "Epoch 7/50\n",
            "172/172 [==============================] - 9s 54ms/step - loss: 1.4480\n",
            "Epoch 8/50\n",
            "172/172 [==============================] - 9s 54ms/step - loss: 1.4102\n",
            "Epoch 9/50\n",
            "172/172 [==============================] - 9s 54ms/step - loss: 1.3783\n",
            "Epoch 10/50\n",
            "172/172 [==============================] - 9s 54ms/step - loss: 1.3519\n",
            "Epoch 11/50\n",
            "172/172 [==============================] - 9s 54ms/step - loss: 1.3281\n",
            "Epoch 12/50\n",
            "172/172 [==============================] - 9s 54ms/step - loss: 1.3066\n",
            "Epoch 13/50\n",
            "172/172 [==============================] - 9s 54ms/step - loss: 1.2868\n",
            "Epoch 14/50\n",
            "172/172 [==============================] - 9s 54ms/step - loss: 1.2680\n",
            "Epoch 15/50\n",
            "172/172 [==============================] - 9s 54ms/step - loss: 1.2495\n",
            "Epoch 16/50\n",
            "172/172 [==============================] - 9s 54ms/step - loss: 1.2316\n",
            "Epoch 17/50\n",
            "172/172 [==============================] - 9s 54ms/step - loss: 1.2135\n",
            "Epoch 18/50\n",
            "172/172 [==============================] - 9s 54ms/step - loss: 1.1952\n",
            "Epoch 19/50\n",
            "172/172 [==============================] - 9s 54ms/step - loss: 1.1761\n",
            "Epoch 20/50\n",
            "172/172 [==============================] - 9s 54ms/step - loss: 1.1557\n",
            "Epoch 21/50\n",
            "172/172 [==============================] - 9s 54ms/step - loss: 1.1359\n",
            "Epoch 22/50\n",
            "172/172 [==============================] - 9s 54ms/step - loss: 1.1148\n",
            "Epoch 23/50\n",
            "172/172 [==============================] - 9s 54ms/step - loss: 1.0941\n",
            "Epoch 24/50\n",
            "172/172 [==============================] - 9s 54ms/step - loss: 1.0702\n",
            "Epoch 25/50\n",
            "172/172 [==============================] - 9s 54ms/step - loss: 1.0474\n",
            "Epoch 26/50\n",
            "172/172 [==============================] - 9s 54ms/step - loss: 1.0237\n",
            "Epoch 27/50\n",
            "172/172 [==============================] - 9s 54ms/step - loss: 0.9994\n",
            "Epoch 28/50\n",
            "172/172 [==============================] - 9s 54ms/step - loss: 0.9749\n",
            "Epoch 29/50\n",
            "172/172 [==============================] - 9s 54ms/step - loss: 0.9493\n",
            "Epoch 30/50\n",
            "172/172 [==============================] - 9s 54ms/step - loss: 0.9232\n",
            "Epoch 31/50\n",
            "172/172 [==============================] - 9s 54ms/step - loss: 0.8979\n",
            "Epoch 32/50\n",
            "172/172 [==============================] - 9s 54ms/step - loss: 0.8735\n",
            "Epoch 33/50\n",
            "172/172 [==============================] - 9s 54ms/step - loss: 0.8489\n",
            "Epoch 34/50\n",
            "172/172 [==============================] - 9s 54ms/step - loss: 0.8245\n",
            "Epoch 35/50\n",
            "172/172 [==============================] - 9s 54ms/step - loss: 0.8017\n",
            "Epoch 36/50\n",
            "172/172 [==============================] - 9s 54ms/step - loss: 0.7775\n",
            "Epoch 37/50\n",
            "172/172 [==============================] - 9s 54ms/step - loss: 0.7561\n",
            "Epoch 38/50\n",
            "172/172 [==============================] - 9s 54ms/step - loss: 0.7359\n",
            "Epoch 39/50\n",
            "172/172 [==============================] - 9s 54ms/step - loss: 0.7148\n",
            "Epoch 40/50\n",
            "172/172 [==============================] - 9s 54ms/step - loss: 0.6965\n",
            "Epoch 41/50\n",
            "172/172 [==============================] - 9s 54ms/step - loss: 0.6778\n",
            "Epoch 42/50\n",
            "172/172 [==============================] - 9s 54ms/step - loss: 0.6613\n",
            "Epoch 43/50\n",
            "172/172 [==============================] - 9s 54ms/step - loss: 0.6438\n",
            "Epoch 44/50\n",
            "172/172 [==============================] - 9s 54ms/step - loss: 0.6281\n",
            "Epoch 45/50\n",
            "172/172 [==============================] - 9s 54ms/step - loss: 0.6166\n",
            "Epoch 46/50\n",
            "172/172 [==============================] - 9s 54ms/step - loss: 0.6027\n",
            "Epoch 47/50\n",
            "172/172 [==============================] - 9s 54ms/step - loss: 0.5891\n",
            "Epoch 48/50\n",
            "172/172 [==============================] - 9s 54ms/step - loss: 0.5774\n",
            "Epoch 49/50\n",
            "172/172 [==============================] - 9s 54ms/step - loss: 0.5651\n",
            "Epoch 50/50\n",
            "172/172 [==============================] - 9s 54ms/step - loss: 0.5538\n"
          ],
          "name": "stdout"
        }
      ]
    },
    {
      "cell_type": "markdown",
      "metadata": {
        "id": "9GhoHJVtmTsz"
      },
      "source": [
        "###Loading the Model\n",
        "We'll rebuild the model from a checkpoint using a batch_size of 1 so that we can feed one piece of text to the model and have it make a prediction."
      ]
    },
    {
      "cell_type": "code",
      "metadata": {
        "id": "TPSto3uimSKp"
      },
      "source": [
        "model = build_model(VOCAB_SIZE, EMBEDDING_DIM, RNN_UNITS, batch_size=1) # batch_size of 1, so we can pass some sequence of any length"
      ],
      "execution_count": null,
      "outputs": []
    },
    {
      "cell_type": "markdown",
      "metadata": {
        "id": "boEJvy_vjLJQ"
      },
      "source": [
        "Once the model is finished training, we can find the **lastest checkpoint** that stores the models weights using the following line.\n",
        "\n"
      ]
    },
    {
      "cell_type": "code",
      "metadata": {
        "id": "PZIEZWE4mNKl"
      },
      "source": [
        "model.load_weights(tf.train.latest_checkpoint(checkpoint_dir)) # load weights of the latest checkpoint\n",
        "model.build(tf.TensorShape([1, None])) #build the model manually: input [1 (for the batch I think), None (don't know what the next dimension length will be)]"
      ],
      "execution_count": null,
      "outputs": []
    },
    {
      "cell_type": "markdown",
      "metadata": {
        "id": "CmPPtbaTKF8d"
      },
      "source": [
        "We can load **any checkpoint** we want by specifying the exact file to load."
      ]
    },
    {
      "cell_type": "code",
      "metadata": {
        "id": "YQ_5p0ehKFDn"
      },
      "source": [
        "checkpoint_num = 10 # this is for example for loading the checkpoint of epoch 10\n",
        "model.load_weights(tf.train.load_checkpoint(\"./training_checkpoints/ckpt_\" + str(checkpoint_num)))\n",
        "model.build(tf.TensorShape([1, None]))"
      ],
      "execution_count": null,
      "outputs": []
    },
    {
      "cell_type": "markdown",
      "metadata": {
        "id": "KaZWalEeAxQN"
      },
      "source": [
        "###Generating Text\n",
        "Now we can use the lovely function provided by tensorflow to generate some text using any starting string we'd like."
      ]
    },
    {
      "cell_type": "code",
      "metadata": {
        "id": "oPSALdQXA3l3"
      },
      "source": [
        "# Evaluation step (generating text using the learned model)\n",
        "def generate_text(model, start_string): # function from TensorFlow website\n",
        "  num_generate = 800  # Number of characters to generate\n",
        "\n",
        "  # Converting our start string to numbers (vectorizing)\n",
        "  input_eval = [char2idx[s] for s in start_string] # string to number for every character in the argument start_string\n",
        "  input_eval = tf.expand_dims(input_eval, 0) # add one more dimension to input_eval \n",
        "\n",
        "  text_generated = [] # Empty string to store our results\n",
        "\n",
        "  # Low temperatures results in more predictable text.\n",
        "  # Higher temperatures results in more surprising text.\n",
        "  # Experiment to find the best setting.\n",
        "  temperature = 1.0\n",
        "\n",
        "  # Here batch size == 1\n",
        "  model.reset_states() # reset_states to clear the last state that model remembered\n",
        "  for i in range(num_generate): # For 0 to 800...\n",
        "      predictions = model(input_eval) # prediction of input_eval\n",
        "      predictions = tf.squeeze(predictions, 0) # remove the batch dimension (the extra dimension)\n",
        "\n",
        "      # using a categorical distribution to predict the character returned by the model\n",
        "      predictions = predictions / temperature\n",
        "      predicted_id = tf.random.categorical(predictions, num_samples=1)[-1,0].numpy()\n",
        "\n",
        "      # We pass the predicted character as the next input to the model\n",
        "      # along with the previous hidden state\n",
        "      input_eval = tf.expand_dims([predicted_id], 0) # add predicted_id to input_eval adding one more dimension\n",
        "\n",
        "      text_generated.append(idx2char[predicted_id]) # append to the empty list the predicted character converted back from integers to letters\n",
        "\n",
        "  return (start_string + ''.join(text_generated)) # returns the initial string plus all the characters stored in the list text_generated"
      ],
      "execution_count": null,
      "outputs": []
    },
    {
      "cell_type": "code",
      "metadata": {
        "id": "cAJqhD9AA5mF",
        "colab": {
          "base_uri": "https://localhost:8080/"
        },
        "outputId": "2cc2e6c0-0c65-4d8c-f4b6-079878eadb73"
      },
      "source": [
        "inp = input(\"Type a starting string: \") # you type here a string that will activate the sequence\n",
        "print(generate_text(model, inp)) #print the text using the function defined above"
      ],
      "execution_count": null,
      "outputs": [
        {
          "output_type": "stream",
          "text": [
            "Type a starting string: you\n",
            "you?\n",
            "\n",
            "TRANIE:\n",
            "Give me this triumph of my kind lord's stears,\n",
            "Which kings come, woe:\n",
            "'Tis very good son.\n",
            "\n",
            "PAULINA:\n",
            "Pardon me not!\n",
            "O woful deare!\n",
            "Prepare her strength, my loving, poor his,\n",
            "And he hath temption to be moved him.\n",
            "\n",
            "GLOUCESTER:\n",
            "Your good's queen, to have a rush'd before.\n",
            "My wife is left heard greatness as Edward,\n",
            "Your person prospers her revengefully to a tackled slave,\n",
            "Unless the duke as lift before the peace\n",
            "To this and unpil disgrace to the ur sit and goes to love,\n",
            "Sufficially in question,\n",
            "But far object to these griefs,\n",
            "Which often\n",
            "As eyes daughters, while he heard it toward the town-day\n",
            "How I grim at thy father's maids\n",
            "Of helpation as you can leave his resolver:\n",
            "Life and his wives with gold, whose purpose\n",
            "Of his thampless.\n",
            "\n",
            "LEONTES:\n",
            "Go, Some Paris is eence, God we proceed I bou\n"
          ],
          "name": "stdout"
        }
      ]
    },
    {
      "cell_type": "markdown",
      "metadata": {
        "id": "CBjHrzzyOBVr"
      },
      "source": [
        "*And* that's pretty much it for this module! I highly reccomend messing with the model we just created and seeing what you can get it to do!"
      ]
    },
    {
      "cell_type": "markdown",
      "metadata": {
        "id": "Cw-1eDE54yQo"
      },
      "source": [
        "##Sources\n",
        "\n",
        "1. Chollet François. Deep Learning with Python. Manning Publications Co., 2018.\n",
        "2. “Text Classification with an RNN &nbsp;: &nbsp; TensorFlow Core.” TensorFlow, www.tensorflow.org/tutorials/text/text_classification_rnn.\n",
        "3. “Text Generation with an RNN &nbsp;: &nbsp; TensorFlow Core.” TensorFlow, www.tensorflow.org/tutorials/text/text_generation.\n",
        "4. “Understanding LSTM Networks.” Understanding LSTM Networks -- Colah's Blog, https://colah.github.io/posts/2015-08-Understanding-LSTMs/."
      ]
    }
  ]
}